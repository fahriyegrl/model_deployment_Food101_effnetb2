{
  "cells": [
    {
      "cell_type": "markdown",
      "metadata": {
        "id": "view-in-github",
        "colab_type": "text"
      },
      "source": [
        "<a href=\"https://colab.research.google.com/github/fahriyegrl/model_deployment_Food101_effnetb2/blob/main/FoodVisio_Food101_ModelDeployment.ipynb\" target=\"_parent\"><img src=\"https://colab.research.google.com/assets/colab-badge.svg\" alt=\"Open In Colab\"/></a>"
      ]
    },
    {
      "cell_type": "code",
      "execution_count": null,
      "metadata": {
        "colab": {
          "base_uri": "https://localhost:8080/"
        },
        "id": "9qZJnaTalMJX",
        "outputId": "a541af3d-4a2f-4e81-bc7b-274688e8fb57"
      },
      "outputs": [
        {
          "data": {
            "text/plain": [
              "ImageClassification(\n",
              "    crop_size=[288]\n",
              "    resize_size=[288]\n",
              "    mean=[0.485, 0.456, 0.406]\n",
              "    std=[0.229, 0.224, 0.225]\n",
              "    interpolation=InterpolationMode.BICUBIC\n",
              ")"
            ]
          },
          "execution_count": 1,
          "metadata": {},
          "output_type": "execute_result"
        }
      ],
      "source": [
        "import torch\n",
        "import torchvision\n",
        "from torch import nn\n",
        "from torchvision import datasets, transforms\n",
        "try:\n",
        "  from torchinfo import summary\n",
        "except:\n",
        "  !pip install -q torchinfo\n",
        "  from torchinfo import summary\n",
        "\n",
        "device = \"cuda\" if torch.cuda.is_available() else \"cpu\"\n",
        "\n",
        "## Creating a model by using torchvision.models.efficientnet_b2\n",
        "\n",
        "# Getting the pretrained weights of the model:\n",
        "\n",
        "effnetb2_weigths = torchvision.models.EfficientNet_B2_Weights.DEFAULT\n",
        "\n",
        "effnetb2_transforms = effnetb2_weigths.transforms()\n",
        "\n",
        "effnetb2_transforms"
      ]
    },
    {
      "cell_type": "code",
      "execution_count": null,
      "metadata": {
        "colab": {
          "base_uri": "https://localhost:8080/"
        },
        "id": "HAFEtcZCoBG6",
        "outputId": "62cfa890-5ae0-4810-8344-5a22b5435da3"
      },
      "outputs": [
        {
          "name": "stderr",
          "output_type": "stream",
          "text": [
            "Downloading: \"https://download.pytorch.org/models/efficientnet_b2_rwightman-c35c1473.pth\" to /root/.cache/torch/hub/checkpoints/efficientnet_b2_rwightman-c35c1473.pth\n",
            "100%|██████████| 35.2M/35.2M [00:00<00:00, 98.1MB/s]\n"
          ]
        }
      ],
      "source": [
        "## Setting up the model\n",
        "\n",
        "effnetb2 = torchvision.models.efficientnet_b2(weights=effnetb2_weigths)\n",
        "\n",
        "#Freeze all layers\n",
        "\n",
        "for param in effnetb2.parameters():\n",
        "  param.requires_grad =False"
      ]
    },
    {
      "cell_type": "code",
      "execution_count": null,
      "metadata": {
        "colab": {
          "base_uri": "https://localhost:8080/"
        },
        "id": "GEOR7VQvouXe",
        "outputId": "109b3147-e188-42fb-8d25-cf8cfe7cb36e"
      },
      "outputs": [
        {
          "data": {
            "text/plain": [
              "Sequential(\n",
              "  (0): Dropout(p=0.3, inplace=True)\n",
              "  (1): Linear(in_features=1408, out_features=1000, bias=True)\n",
              ")"
            ]
          },
          "execution_count": 3,
          "metadata": {},
          "output_type": "execute_result"
        }
      ],
      "source": [
        "## Checking the model classifier\n",
        "effnetb2.classifier\n"
      ]
    },
    {
      "cell_type": "code",
      "execution_count": null,
      "metadata": {
        "colab": {
          "base_uri": "https://localhost:8080/"
        },
        "id": "PmYfz8kZo3R3",
        "outputId": "aa127a51-b363-42a6-fdfe-ef825a116ddf"
      },
      "outputs": [
        {
          "data": {
            "text/plain": [
              "Sequential(\n",
              "  (0): Dropout(p=0.3, inplace=True)\n",
              "  (1): Linear(in_features=1408, out_features=101, bias=True)\n",
              ")"
            ]
          },
          "execution_count": 4,
          "metadata": {},
          "output_type": "execute_result"
        }
      ],
      "source": [
        "## Changing out_features to 101 since there are 101 label in the Food101 datasets\n",
        "\n",
        "effnetb2.classifier = nn.Sequential(\n",
        "    nn.Dropout(p=0.3, inplace=True),\n",
        "    nn.Linear(in_features=1408,\n",
        "              out_features=101))\n",
        "\n",
        "effnetb2.classifier"
      ]
    },
    {
      "cell_type": "markdown",
      "metadata": {
        "id": "IfLRcAMGVnzI"
      },
      "source": [
        "Turning cretaing a model to a function"
      ]
    },
    {
      "cell_type": "code",
      "execution_count": 106,
      "metadata": {
        "id": "COp33y3dUypa"
      },
      "outputs": [],
      "source": [
        "def created_effnetb2_model(num_classess=101):\n",
        "  weigths = torchvision.models.EfficientNet_B2_Weights.DEFAULT\n",
        "  transforms = weigths.transforms()\n",
        "  model = torchvision.models.efficientnet_b2(weights=weigths)\n",
        "  for param in model.parameters():\n",
        "    param.requires_grad = False\n",
        "\n",
        "  torch.manual_seed(42)\n",
        "  model.classifier = nn.Sequential(\n",
        "      nn.Dropout(p=0.3, inplace=True),\n",
        "      nn.Linear(in_features=1408, out_features=num_classess)\n",
        "  )\n",
        "\n",
        "  return model, transforms\n",
        "\n"
      ]
    },
    {
      "cell_type": "code",
      "execution_count": null,
      "metadata": {
        "colab": {
          "base_uri": "https://localhost:8080/"
        },
        "id": "irvKRipMWBS1",
        "outputId": "df95b47c-e1ab-45d8-b7c2-c59a24e2ba92"
      },
      "outputs": [
        {
          "data": {
            "text/plain": [
              "========================================================================================================================\n",
              "Layer (type (var_name))                                      Input Shape     Output Shape    Param #         Trainable\n",
              "========================================================================================================================\n",
              "EfficientNet (EfficientNet)                                  [1, 3, 224, 224] [1, 101]        --              Partial\n",
              "├─Sequential (features)                                      [1, 3, 224, 224] [1, 1408, 7, 7] --              False\n",
              "│    └─Conv2dNormActivation (0)                              [1, 3, 224, 224] [1, 32, 112, 112] --              False\n",
              "│    │    └─Conv2d (0)                                       [1, 3, 224, 224] [1, 32, 112, 112] (864)           False\n",
              "│    │    └─BatchNorm2d (1)                                  [1, 32, 112, 112] [1, 32, 112, 112] (64)            False\n",
              "│    │    └─SiLU (2)                                         [1, 32, 112, 112] [1, 32, 112, 112] --              --\n",
              "│    └─Sequential (1)                                        [1, 32, 112, 112] [1, 16, 112, 112] --              False\n",
              "│    │    └─MBConv (0)                                       [1, 32, 112, 112] [1, 16, 112, 112] (1,448)         False\n",
              "│    │    └─MBConv (1)                                       [1, 16, 112, 112] [1, 16, 112, 112] (612)           False\n",
              "│    └─Sequential (2)                                        [1, 16, 112, 112] [1, 24, 56, 56] --              False\n",
              "│    │    └─MBConv (0)                                       [1, 16, 112, 112] [1, 24, 56, 56] (6,004)         False\n",
              "│    │    └─MBConv (1)                                       [1, 24, 56, 56] [1, 24, 56, 56] (10,710)        False\n",
              "│    │    └─MBConv (2)                                       [1, 24, 56, 56] [1, 24, 56, 56] (10,710)        False\n",
              "│    └─Sequential (3)                                        [1, 24, 56, 56] [1, 48, 28, 28] --              False\n",
              "│    │    └─MBConv (0)                                       [1, 24, 56, 56] [1, 48, 28, 28] (16,518)        False\n",
              "│    │    └─MBConv (1)                                       [1, 48, 28, 28] [1, 48, 28, 28] (43,308)        False\n",
              "│    │    └─MBConv (2)                                       [1, 48, 28, 28] [1, 48, 28, 28] (43,308)        False\n",
              "│    └─Sequential (4)                                        [1, 48, 28, 28] [1, 88, 14, 14] --              False\n",
              "│    │    └─MBConv (0)                                       [1, 48, 28, 28] [1, 88, 14, 14] (50,300)        False\n",
              "│    │    └─MBConv (1)                                       [1, 88, 14, 14] [1, 88, 14, 14] (123,750)       False\n",
              "│    │    └─MBConv (2)                                       [1, 88, 14, 14] [1, 88, 14, 14] (123,750)       False\n",
              "│    │    └─MBConv (3)                                       [1, 88, 14, 14] [1, 88, 14, 14] (123,750)       False\n",
              "│    └─Sequential (5)                                        [1, 88, 14, 14] [1, 120, 14, 14] --              False\n",
              "│    │    └─MBConv (0)                                       [1, 88, 14, 14] [1, 120, 14, 14] (149,158)       False\n",
              "│    │    └─MBConv (1)                                       [1, 120, 14, 14] [1, 120, 14, 14] (237,870)       False\n",
              "│    │    └─MBConv (2)                                       [1, 120, 14, 14] [1, 120, 14, 14] (237,870)       False\n",
              "│    │    └─MBConv (3)                                       [1, 120, 14, 14] [1, 120, 14, 14] (237,870)       False\n",
              "│    └─Sequential (6)                                        [1, 120, 14, 14] [1, 208, 7, 7]  --              False\n",
              "│    │    └─MBConv (0)                                       [1, 120, 14, 14] [1, 208, 7, 7]  (301,406)       False\n",
              "│    │    └─MBConv (1)                                       [1, 208, 7, 7]  [1, 208, 7, 7]  (686,868)       False\n",
              "│    │    └─MBConv (2)                                       [1, 208, 7, 7]  [1, 208, 7, 7]  (686,868)       False\n",
              "│    │    └─MBConv (3)                                       [1, 208, 7, 7]  [1, 208, 7, 7]  (686,868)       False\n",
              "│    │    └─MBConv (4)                                       [1, 208, 7, 7]  [1, 208, 7, 7]  (686,868)       False\n",
              "│    └─Sequential (7)                                        [1, 208, 7, 7]  [1, 352, 7, 7]  --              False\n",
              "│    │    └─MBConv (0)                                       [1, 208, 7, 7]  [1, 352, 7, 7]  (846,900)       False\n",
              "│    │    └─MBConv (1)                                       [1, 352, 7, 7]  [1, 352, 7, 7]  (1,888,920)     False\n",
              "│    └─Conv2dNormActivation (8)                              [1, 352, 7, 7]  [1, 1408, 7, 7] --              False\n",
              "│    │    └─Conv2d (0)                                       [1, 352, 7, 7]  [1, 1408, 7, 7] (495,616)       False\n",
              "│    │    └─BatchNorm2d (1)                                  [1, 1408, 7, 7] [1, 1408, 7, 7] (2,816)         False\n",
              "│    │    └─SiLU (2)                                         [1, 1408, 7, 7] [1, 1408, 7, 7] --              --\n",
              "├─AdaptiveAvgPool2d (avgpool)                                [1, 1408, 7, 7] [1, 1408, 1, 1] --              --\n",
              "├─Sequential (classifier)                                    [1, 1408]       [1, 101]        --              True\n",
              "│    └─Dropout (0)                                           [1, 1408]       [1, 1408]       --              --\n",
              "│    └─Linear (1)                                            [1, 1408]       [1, 101]        142,309         True\n",
              "========================================================================================================================\n",
              "Total params: 7,843,303\n",
              "Trainable params: 142,309\n",
              "Non-trainable params: 7,700,994\n",
              "Total mult-adds (M): 657.78\n",
              "========================================================================================================================\n",
              "Input size (MB): 0.60\n",
              "Forward/backward pass size (MB): 156.80\n",
              "Params size (MB): 31.37\n",
              "Estimated Total Size (MB): 188.77\n",
              "========================================================================================================================"
            ]
          },
          "execution_count": 9,
          "metadata": {},
          "output_type": "execute_result"
        }
      ],
      "source": [
        "#using summary to see if output size is changed\n",
        "summary(effnetb2,\n",
        "        input_size=(1,3,224,224),\n",
        "        col_names=[\"input_size\", \"output_size\", \"num_params\", \"trainable\"],\n",
        "        col_width=15,\n",
        "        row_settings=[\"var_names\"])"
      ]
    },
    {
      "cell_type": "code",
      "execution_count": null,
      "metadata": {
        "colab": {
          "base_uri": "https://localhost:8080/"
        },
        "id": "ID93M9FxXPCF",
        "outputId": "c24eca4a-06ed-4a12-bccd-1c87ec06d227"
      },
      "outputs": [
        {
          "name": "stdout",
          "output_type": "stream",
          "text": [
            "Compose(\n",
            "    TrivialAugmentWide(num_magnitude_bins=31, interpolation=InterpolationMode.NEAREST, fill=None)\n",
            "    ImageClassification(\n",
            "    crop_size=[288]\n",
            "    resize_size=[288]\n",
            "    mean=[0.485, 0.456, 0.406]\n",
            "    std=[0.229, 0.224, 0.225]\n",
            "    interpolation=InterpolationMode.BICUBIC\n",
            ")\n",
            ")\n"
          ]
        }
      ],
      "source": [
        "## Creating transforms for Food101 dataset by adding data augmentation\n",
        "\n",
        "food101_transforms = torchvision.transforms.Compose([\n",
        "    torchvision.transforms.TrivialAugmentWide(),\n",
        "    effnetb2_transforms\n",
        "    ])\n",
        "\n",
        "print(food101_transforms)"
      ]
    },
    {
      "cell_type": "code",
      "execution_count": null,
      "metadata": {
        "colab": {
          "base_uri": "https://localhost:8080/"
        },
        "id": "_o8tEHewX9fJ",
        "outputId": "97c92759-9ef1-44d8-a862-fdf72cfcee11"
      },
      "outputs": [
        {
          "name": "stdout",
          "output_type": "stream",
          "text": [
            "Downloading https://data.vision.ee.ethz.ch/cvl/food-101.tar.gz to data/food-101.tar.gz\n"
          ]
        },
        {
          "name": "stderr",
          "output_type": "stream",
          "text": [
            "100%|██████████| 4996278331/4996278331 [03:43<00:00, 22351355.80it/s]\n"
          ]
        },
        {
          "name": "stdout",
          "output_type": "stream",
          "text": [
            "Extracting data/food-101.tar.gz to data\n"
          ]
        }
      ],
      "source": [
        "## Getting data from Food101\n",
        "from pathlib import Path\n",
        "data_directory = Path(\"data\")\n",
        "\n",
        "train_data = datasets.Food101(root=data_directory,\n",
        "                              split=\"train\",\n",
        "                              transform=food101_transforms,\n",
        "                              download=True)\n",
        "test_data = datasets.Food101(root=data_directory,\n",
        "                              split=\"test\",\n",
        "                              transform=effnetb2_transforms,\n",
        "                              download=True)"
      ]
    },
    {
      "cell_type": "code",
      "execution_count": null,
      "metadata": {
        "colab": {
          "base_uri": "https://localhost:8080/"
        },
        "id": "0YF7FaM4Yrik",
        "outputId": "6462cd11-f9ab-48d8-9eb1-36e40cd0831c"
      },
      "outputs": [
        {
          "data": {
            "text/plain": [
              "['apple_pie',\n",
              " 'baby_back_ribs',\n",
              " 'baklava',\n",
              " 'beef_carpaccio',\n",
              " 'beef_tartare',\n",
              " 'beet_salad',\n",
              " 'beignets',\n",
              " 'bibimbap',\n",
              " 'bread_pudding',\n",
              " 'breakfast_burrito',\n",
              " 'bruschetta',\n",
              " 'caesar_salad',\n",
              " 'cannoli',\n",
              " 'caprese_salad',\n",
              " 'carrot_cake']"
            ]
          },
          "execution_count": 20,
          "metadata": {},
          "output_type": "execute_result"
        }
      ],
      "source": [
        "food101_classes = train_data.classes\n",
        "food101_classes[:15]"
      ]
    },
    {
      "cell_type": "code",
      "execution_count": null,
      "metadata": {
        "id": "R8FSeiI6xg0U"
      },
      "outputs": [],
      "source": [
        "train_length_1 = int(len(train_data) * 0.1)\n",
        "train_length_2 = len(train_data)- train_length_1\n",
        "\n",
        "test_length_1 = int(len(test_data) * 0.1)\n",
        "test_length_2 = len(test_data)- test_length_1\n",
        "\n",
        "train_data_split_1, train_data_split_2 = torch.utils.data.random_split(train_data,\n",
        "                                                            lengths=[train_length_1, train_length_2],\n",
        "                                                            generator=torch.manual_seed(42))\n",
        "\n",
        "test_data_split_1, test_data_split_2 = torch.utils.data.random_split(test_data,\n",
        "                                                            lengths=[test_length_1, test_length_2],\n",
        "                                                            generator=torch.manual_seed(42))"
      ]
    },
    {
      "cell_type": "code",
      "execution_count": null,
      "metadata": {
        "id": "aEJuda26ZNrT"
      },
      "outputs": [],
      "source": [
        "## Turning the Food101 datates into DataLoader\n",
        "\n",
        "BATCH_SIZE=32\n",
        "\n",
        "train_dataloader = torch.utils.data.DataLoader(train_data_split_1,\n",
        "                                          batch_size=BATCH_SIZE,\n",
        "                                          shuffle=True)\n",
        "\n",
        "test_dataloader = torch.utils.data.DataLoader(test_data_split_1,\n",
        "                                          batch_size=BATCH_SIZE,\n",
        "                                          shuffle=True)\n"
      ]
    },
    {
      "cell_type": "code",
      "execution_count": null,
      "metadata": {
        "id": "9iN4F-evZ-yO"
      },
      "outputs": [],
      "source": [
        "## Training the model with Adam optimizer and CrossEntropyLoss loss function and using label smoothing\n",
        "\n",
        "try:\n",
        "  from going_modular.going_modular import data_setup, engine\n",
        "except:\n",
        "  print(\"[INFO] downloading going_modular from GitHub.\")\n",
        "  !git clone https://github.com/fahriyegrl/going_modular_pytorch\n",
        "  !mv going_modular_pytorch/going_modular .\n",
        "  !rm -rf going_modular_pytorch\n",
        "  from going_modular.going_modular import data_setup,engine\n",
        "\n",
        "\n",
        "optimizer = torch.optim.Adam(params=effnetb2.parameters(),\n",
        "                             lr=1e-3)\n",
        "\n",
        "loss_fn= torch.nn.CrossEntropyLoss(label_smoothing=0.1)\n"
      ]
    },
    {
      "cell_type": "code",
      "execution_count": 28,
      "metadata": {
        "colab": {
          "base_uri": "https://localhost:8080/",
          "height": 139,
          "referenced_widgets": [
            "987ba87edc464e47a8edf2a82efd77b7",
            "42f1cb141e4e46c880c15b14addc54c4",
            "548c440399054de897dc65ac229edc85",
            "09f70a10e2bf4b858e24559e001adadd",
            "e8c156e1d123481db1a37589194efe3c",
            "3ed9372efa044221a464bd0073fe37d8",
            "c4ea2ff6d93d48679151a922df0bb061",
            "382a494d35a740e69807ff03eee98baa",
            "f8178e2adc174974aa04e0b58f0daa66",
            "1fe17523b0ce48fe805b926b39eaaebc",
            "d3341e12ae7543d0bd2f839c8fb1cc3d"
          ]
        },
        "id": "1rmHLxNTbFln",
        "outputId": "1edd602f-160c-4127-ea79-35c473790900"
      },
      "outputs": [
        {
          "data": {
            "application/vnd.jupyter.widget-view+json": {
              "model_id": "987ba87edc464e47a8edf2a82efd77b7",
              "version_major": 2,
              "version_minor": 0
            },
            "text/plain": [
              "  0%|          | 0/5 [00:00<?, ?it/s]"
            ]
          },
          "metadata": {},
          "output_type": "display_data"
        },
        {
          "output_type": "stream",
          "name": "stdout",
          "text": [
            "Epoch: 1 | train_loss: 2.9178 | train_acc: 0.4219 | test_loss: 2.4808 | test_acc: 0.5367\n",
            "Epoch: 2 | train_loss: 2.6974 | train_acc: 0.4785 | test_loss: 2.4129 | test_acc: 0.5410\n",
            "Epoch: 3 | train_loss: 2.5594 | train_acc: 0.5147 | test_loss: 2.3776 | test_acc: 0.5420\n",
            "Epoch: 4 | train_loss: 2.4463 | train_acc: 0.5378 | test_loss: 2.3519 | test_acc: 0.5479\n",
            "Epoch: 5 | train_loss: 2.3974 | train_acc: 0.5599 | test_loss: 2.3401 | test_acc: 0.5467\n"
          ]
        }
      ],
      "source": [
        "torch.manual_seed(42)\n",
        "effnetb2_results = engine.train(model=effnetb2,\n",
        "                                train_dataloader=train_dataloader,\n",
        "                                test_dataloader=test_dataloader,\n",
        "                                optimizer=optimizer,\n",
        "                                loss_fn=loss_fn,\n",
        "                                epochs=5,\n",
        "                                device=device)"
      ]
    },
    {
      "cell_type": "code",
      "execution_count": 29,
      "metadata": {
        "id": "pgEivq6viVdb",
        "colab": {
          "base_uri": "https://localhost:8080/",
          "height": 659
        },
        "outputId": "a79cd4a1-e001-4ea7-a794-365043ae109a"
      },
      "outputs": [
        {
          "output_type": "execute_result",
          "data": {
            "text/plain": [
              "<matplotlib.legend.Legend at 0x7cec353202b0>"
            ]
          },
          "metadata": {},
          "execution_count": 29
        },
        {
          "output_type": "display_data",
          "data": {
            "text/plain": [
              "<Figure size 1500x700 with 2 Axes>"
            ],
            "image/png": "[encoded data removed]"
          },
          "metadata": {}
        }
      ],
      "source": [
        "##Checking loss curves of the model\n",
        "import matplotlib.pyplot as plt\n",
        "import numpy as np\n",
        "\n",
        "loss = effnetb2_results[\"train_loss\"]\n",
        "test_loss = effnetb2_results[\"test_loss\"]\n",
        "\n",
        "accurancy = effnetb2_results[\"train_acc\"]\n",
        "test_accurancy = effnetb2_results[\"test_acc\"]\n",
        "\n",
        "epochs = range(len(effnetb2_results[\"train_acc\"]))\n",
        "\n",
        "plt.figure(figsize=(15,7))\n",
        "#Plotting loss\n",
        "plt.subplot(1,2,1)\n",
        "plt.plot(epochs, loss, label=\"train_loss\")\n",
        "plt.plot(epochs, test_loss, label=\"test_loss\")\n",
        "plt.title(\"Loss\")\n",
        "plt.xlabel(\"Epochs\")\n",
        "plt.legend()\n",
        "\n",
        "#Plotting accuracy\n",
        "plt.subplot(1,2,2)\n",
        "plt.plot(epochs, loss, label=\"train_accuracy\")\n",
        "plt.plot(epochs, test_loss, label=\"test_accuracy\")\n",
        "plt.title(\"Accuracy\")\n",
        "plt.xlabel(\"Epochs\")\n",
        "plt.legend()\n"
      ]
    },
    {
      "cell_type": "code",
      "execution_count": 103,
      "metadata": {
        "id": "mjHI1zB6lD23",
        "colab": {
          "base_uri": "https://localhost:8080/"
        },
        "outputId": "7d9f2a3b-cfac-4b7c-97c1-bc6c2bfd5ca5"
      },
      "outputs": [
        {
          "output_type": "stream",
          "name": "stdout",
          "text": [
            "Saving the model....\n"
          ]
        }
      ],
      "source": [
        "## Saving the model\n",
        "model=effnetb2\n",
        "effnetb2_model_name = \"effnetb2_model_Food101.pth\"\n",
        "\n",
        "target_dir_path = Path(\"models\")\n",
        "target_dir_path.mkdir(parents=True,\n",
        "                  exist_ok=True)\n",
        "\n",
        "assert effnetb2_model_name.endswith(\".pth\") or effnetb2_model_name(\".pt\")\n",
        "saving_model_path = target_dir_path / effnetb2_model_name\n",
        "\n",
        "print(\"Saving the model....\")\n",
        "torch.save(obj=model.state_dict,\n",
        "           f=saving_model_path)\n"
      ]
    },
    {
      "cell_type": "code",
      "source": [
        "print(type(torch.load))"
      ],
      "metadata": {
        "colab": {
          "base_uri": "https://localhost:8080/"
        },
        "id": "NPfWAr-wPIb_",
        "outputId": "80831d31-3309-461b-d048-82cf924984b1"
      },
      "execution_count": 110,
      "outputs": [
        {
          "output_type": "stream",
          "name": "stdout",
          "text": [
            "<class 'function'>\n"
          ]
        }
      ]
    },
    {
      "cell_type": "code",
      "source": [
        "loaded_effnetb2, loaded_effnetb2_transforms = created_effnetb2_model()\n",
        "torch.save(obj=loaded_effnetb2.state_dict(),\n",
        "           f=\"models/effnetb2_model_Food101.pth\")\n",
        ""
      ],
      "metadata": {
        "id": "STUJ9icVQK5f"
      },
      "execution_count": 117,
      "outputs": []
    },
    {
      "cell_type": "code",
      "execution_count": 118,
      "metadata": {
        "id": "mp-W9WWwnMk4"
      },
      "outputs": [],
      "source": [
        "## Deployment the Model by Gradio on Hugging Face\n",
        "# Createing a directory to store the model\n",
        "\n",
        "from pathlib import Path\n",
        "\n",
        "model_deploy_path = Path(\"demos/effnetb2_Food101/\")\n",
        "model_deploy_path.mkdir(parents=True,\n",
        "                        exist_ok=True)\n",
        "\n",
        "## Example directory\n",
        "\n",
        "(model_deploy_path / \"examples\").mkdir(parents=True, exist_ok=True)\n",
        "\n"
      ]
    },
    {
      "cell_type": "code",
      "execution_count": 119,
      "metadata": {
        "id": "8ELK3VtPCRf0",
        "colab": {
          "base_uri": "https://localhost:8080/"
        },
        "outputId": "b790b2c7-5cc8-4972-f314-f390a196c705"
      },
      "outputs": [
        {
          "output_type": "stream",
          "name": "stdout",
          "text": [
            "--2024-07-21 03:10:04--  https://github.com/fahriyegrl/model_deployment_Food101_effnetb2/blob/80ea348dbdb428dfd8ea4cb812b4bcd27671a8ef/images/IMG_1804.jpg\n",
            "Resolving github.com (github.com)... 140.82.116.3\n",
            "Connecting to github.com (github.com)|140.82.116.3|:443... connected.\n",
            "HTTP request sent, awaiting response... 200 OK\n",
            "Length: unspecified [text/html]\n",
            "Saving to: ‘IMG_1804.jpg’\n",
            "\n",
            "IMG_1804.jpg            [ <=>                ] 259.59K  --.-KB/s    in 0.03s   \n",
            "\n",
            "2024-07-21 03:10:04 (9.47 MB/s) - ‘IMG_1804.jpg’ saved [265821]\n",
            "\n"
          ]
        }
      ],
      "source": [
        "!wget https://github.com/fahriyegrl/model_deployment_Food101_effnetb2/blob/80ea348dbdb428dfd8ea4cb812b4bcd27671a8ef/images/IMG_1804.jpg\n",
        "!mv IMG_1804.jpg demos/effnetb2_Food101/examples/IMG_1804.jpg\n",
        "\n",
        "\n",
        "!mv models/effnetb2_model_Food101.pth  demos/effnetb2_Food101"
      ]
    },
    {
      "cell_type": "code",
      "source": [
        "!wget https://github.com/fahriyegrl/model_deployment_Food101_effnetb2/blob/80ea348dbdb428dfd8ea4cb812b4bcd27671a8ef/images/IMG_1927.jpg\n",
        "!mv IMG_1927.jpg demos/effnetb2_Food101/examples/IMG_1927.jpg\n",
        "\n",
        "\n"
      ],
      "metadata": {
        "colab": {
          "base_uri": "https://localhost:8080/"
        },
        "id": "DNmV4rF-v5L7",
        "outputId": "02f7a6ee-f255-4851-b62e-583012f18d0c"
      },
      "execution_count": 120,
      "outputs": [
        {
          "output_type": "stream",
          "name": "stdout",
          "text": [
            "--2024-07-21 03:10:06--  https://github.com/fahriyegrl/model_deployment_Food101_effnetb2/blob/80ea348dbdb428dfd8ea4cb812b4bcd27671a8ef/images/IMG_1927.jpg\n",
            "Resolving github.com (github.com)... 140.82.116.4\n",
            "Connecting to github.com (github.com)|140.82.116.4|:443... connected.\n",
            "HTTP request sent, awaiting response... 200 OK\n",
            "Length: unspecified [text/html]\n",
            "Saving to: ‘IMG_1927.jpg’\n",
            "\n",
            "IMG_1927.jpg            [ <=>                ] 163.06K  --.-KB/s    in 0.03s   \n",
            "\n",
            "2024-07-21 03:10:06 (5.60 MB/s) - ‘IMG_1927.jpg’ saved [166975]\n",
            "\n"
          ]
        }
      ]
    },
    {
      "cell_type": "code",
      "source": [
        "!wget https://github.com/fahriyegrl/model_deployment_Food101_effnetb2/blob/80ea348dbdb428dfd8ea4cb812b4bcd27671a8ef/images/IMG_2692.jpg\n",
        "!mv IMG_2692.jpg demos/effnetb2_Food101/examples/IMG_2692.jpg"
      ],
      "metadata": {
        "colab": {
          "base_uri": "https://localhost:8080/"
        },
        "id": "yOqh5NaYwF7w",
        "outputId": "5951eeae-440f-4956-b4b8-9e1acdaec268"
      },
      "execution_count": 121,
      "outputs": [
        {
          "output_type": "stream",
          "name": "stdout",
          "text": [
            "--2024-07-21 03:10:09--  https://github.com/fahriyegrl/model_deployment_Food101_effnetb2/blob/80ea348dbdb428dfd8ea4cb812b4bcd27671a8ef/images/IMG_2692.jpg\n",
            "Resolving github.com (github.com)... 140.82.116.4\n",
            "Connecting to github.com (github.com)|140.82.116.4|:443... connected.\n",
            "HTTP request sent, awaiting response... 200 OK\n",
            "Length: unspecified [text/html]\n",
            "Saving to: ‘IMG_2692.jpg’\n",
            "\n",
            "IMG_2692.jpg            [ <=>                ] 259.59K  --.-KB/s    in 0.02s   \n",
            "\n",
            "2024-07-21 03:10:09 (11.0 MB/s) - ‘IMG_2692.jpg’ saved [265820]\n",
            "\n"
          ]
        }
      ]
    },
    {
      "cell_type": "code",
      "execution_count": 122,
      "metadata": {
        "id": "yXQDkDYUCkwg"
      },
      "outputs": [],
      "source": [
        "## Getting class names and saving them\n",
        "\n",
        "class_names_path = model_deploy_path / \"class_names.txt\"\n",
        "with open (class_names_path, \"w\") as f:\n",
        "  f.write(\"\\n\".join(food101_classes))\n"
      ]
    },
    {
      "cell_type": "code",
      "execution_count": 123,
      "metadata": {
        "id": "PhFtYKpSGrIK",
        "colab": {
          "base_uri": "https://localhost:8080/"
        },
        "outputId": "8a996021-fef7-4299-e552-85ec4043a57e"
      },
      "outputs": [
        {
          "output_type": "execute_result",
          "data": {
            "text/plain": [
              "['apple_pie',\n",
              " 'baby_back_ribs',\n",
              " 'baklava',\n",
              " 'beef_carpaccio',\n",
              " 'beef_tartare',\n",
              " 'beet_salad',\n",
              " 'beignets',\n",
              " 'bibimbap',\n",
              " 'bread_pudding',\n",
              " 'breakfast_burrito',\n",
              " 'bruschetta',\n",
              " 'caesar_salad',\n",
              " 'cannoli',\n",
              " 'caprese_salad',\n",
              " 'carrot_cake',\n",
              " 'ceviche',\n",
              " 'cheese_plate',\n",
              " 'cheesecake',\n",
              " 'chicken_curry',\n",
              " 'chicken_quesadilla',\n",
              " 'chicken_wings',\n",
              " 'chocolate_cake',\n",
              " 'chocolate_mousse',\n",
              " 'churros',\n",
              " 'clam_chowder',\n",
              " 'club_sandwich',\n",
              " 'crab_cakes',\n",
              " 'creme_brulee',\n",
              " 'croque_madame',\n",
              " 'cup_cakes',\n",
              " 'deviled_eggs',\n",
              " 'donuts',\n",
              " 'dumplings',\n",
              " 'edamame',\n",
              " 'eggs_benedict',\n",
              " 'escargots',\n",
              " 'falafel',\n",
              " 'filet_mignon',\n",
              " 'fish_and_chips',\n",
              " 'foie_gras',\n",
              " 'french_fries',\n",
              " 'french_onion_soup',\n",
              " 'french_toast',\n",
              " 'fried_calamari',\n",
              " 'fried_rice',\n",
              " 'frozen_yogurt',\n",
              " 'garlic_bread',\n",
              " 'gnocchi',\n",
              " 'greek_salad',\n",
              " 'grilled_cheese_sandwich',\n",
              " 'grilled_salmon',\n",
              " 'guacamole',\n",
              " 'gyoza',\n",
              " 'hamburger',\n",
              " 'hot_and_sour_soup',\n",
              " 'hot_dog',\n",
              " 'huevos_rancheros',\n",
              " 'hummus',\n",
              " 'ice_cream',\n",
              " 'lasagna',\n",
              " 'lobster_bisque',\n",
              " 'lobster_roll_sandwich',\n",
              " 'macaroni_and_cheese',\n",
              " 'macarons',\n",
              " 'miso_soup',\n",
              " 'mussels',\n",
              " 'nachos',\n",
              " 'omelette',\n",
              " 'onion_rings',\n",
              " 'oysters',\n",
              " 'pad_thai',\n",
              " 'paella',\n",
              " 'pancakes',\n",
              " 'panna_cotta',\n",
              " 'peking_duck',\n",
              " 'pho',\n",
              " 'pizza',\n",
              " 'pork_chop',\n",
              " 'poutine',\n",
              " 'prime_rib',\n",
              " 'pulled_pork_sandwich',\n",
              " 'ramen',\n",
              " 'ravioli',\n",
              " 'red_velvet_cake',\n",
              " 'risotto',\n",
              " 'samosa',\n",
              " 'sashimi',\n",
              " 'scallops',\n",
              " 'seaweed_salad',\n",
              " 'shrimp_and_grits',\n",
              " 'spaghetti_bolognese',\n",
              " 'spaghetti_carbonara',\n",
              " 'spring_rolls',\n",
              " 'steak',\n",
              " 'strawberry_shortcake',\n",
              " 'sushi',\n",
              " 'tacos',\n",
              " 'takoyaki',\n",
              " 'tiramisu',\n",
              " 'tuna_tartare',\n",
              " 'waffles']"
            ]
          },
          "metadata": {},
          "execution_count": 123
        }
      ],
      "source": [
        "with open(class_names_path, \"r\") as f:\n",
        "  food101_class_names = [food.strip() for food in f.readlines()]\n",
        "\n",
        "food101_class_names\n"
      ]
    },
    {
      "cell_type": "code",
      "execution_count": 124,
      "metadata": {
        "id": "_8ey-e7vJti-",
        "colab": {
          "base_uri": "https://localhost:8080/"
        },
        "outputId": "b865c010-fa1b-48bd-92f7-68984bd63f37"
      },
      "outputs": [
        {
          "output_type": "stream",
          "name": "stdout",
          "text": [
            "Overwriting demos/effnetb2_Food101/model.py\n"
          ]
        }
      ],
      "source": [
        "\n",
        "%%writefile demos/effnetb2_Food101/model.py\n",
        "\n",
        "import torch\n",
        "import torchvision\n",
        "from torch import nn\n",
        "\n",
        "def created_effnetb2_model(num_classess:int=101):\n",
        "  weigths = torchvision.models.EfficientNet_B2_Weights.DEFAULT\n",
        "  transforms = weigths.transforms()\n",
        "  model = torchvision.models.efficientnet_b2(weights=weigths)\n",
        "  for param in model.parameters():\n",
        "    param.requires_grad = False\n",
        "\n",
        "  torch.manual_seed(42)\n",
        "  model.classifier = nn.Sequential(\n",
        "      nn.Dropout(p=0.3, inplace=True),\n",
        "      nn.Linear(in_features=1408, out_features=num_classess)\n",
        "  )\n",
        "\n",
        "  return model, transforms"
      ]
    },
    {
      "cell_type": "code",
      "source": [
        "effnetb2.load_state_dict(\n",
        "    torch.load(\n",
        "        f=\"effnetb2_model_Food101.pth\",\n",
        "        map_location=torch.device(\"cpu\"),  # load to CPU\n",
        "    )\n",
        ")"
      ],
      "metadata": {
        "id": "L7Qj3tyRSk4g"
      },
      "execution_count": null,
      "outputs": []
    },
    {
      "cell_type": "markdown",
      "source": [
        "## Turning the Gradio app into a Python script"
      ],
      "metadata": {
        "id": "efmToGPMwvn8"
      }
    },
    {
      "cell_type": "code",
      "execution_count": 132,
      "metadata": {
        "id": "6KovUqnbKRJx",
        "colab": {
          "base_uri": "https://localhost:8080/"
        },
        "outputId": "4a9ba720-c251-42ff-e6e6-e7fc36413dab"
      },
      "outputs": [
        {
          "output_type": "stream",
          "name": "stdout",
          "text": [
            "Overwriting demos/effnetb2_Food101/app.py\n"
          ]
        }
      ],
      "source": [
        "\n",
        "%%writefile demos/effnetb2_Food101/app.py\n",
        "\n",
        "import gradio as gr\n",
        "import os\n",
        "import torch\n",
        "\n",
        "from model import created_effnetb2_model\n",
        "from timeit import default_timer as timer\n",
        "from typing import Tuple, Dict\n",
        "\n",
        "with open(\"class_names.txt\", \"r\") as f:\n",
        "  class_names = [food_name.strip() for food_name in f.readlines()]\n",
        "\n",
        "effnetb2_model, model_transforms = created_effnetb2_model()\n",
        "\n",
        "torch.save(obj=effnetb2_model.state_dict,\n",
        "           f=\"effnetb2_model_Food101.pth\")\n",
        "\n",
        "## Prediction function\n",
        "\n",
        "def predict(img) -> Tuple[Dict,float]:\n",
        "  start_time = timer()\n",
        "  img = model_transforms(img).unsqueeze(0)\n",
        "  effnetb2_model.eval()\n",
        "  with torch.inference_mode():\n",
        "    pred_probs = torch.softmax(effnetb2_model(img), dim=1)\n",
        "\n",
        "  pred_labels_and_probs = {class_names[i] : float(pred_probs[0][i]) for i in range(len(class_names))}\n",
        "  end_time = timer()\n",
        "  pred_time = end_time - start_time\n",
        "  return pred_labels_and_probs, pred_time\n",
        "\n",
        "\n",
        "## Gradio app setup\n",
        "\n",
        "title = \"FoodVision Demo App with EfficientNetB2\"\n",
        "description=\"An EfficientNetB2 feature extractor model to predict and classy food images\"\n",
        "\n",
        "examples = [[\"examples/\" + example] for example in os.listdir(\"examples\")]\n",
        "\n",
        "demo = gr.Interface(\n",
        "    fn=predict,\n",
        "    inputs=gr.Image(type=\"pil\"),\n",
        "    outputs=[\n",
        "        gr.Label(num_top_classes=5, label=\"Predictions\"),\n",
        "        gr.Number(label=\"Prediction Time\")\n",
        "    ],\n",
        "    title=title,\n",
        "    description=description,\n",
        "    examples=examples\n",
        ")\n",
        "\n",
        "demo.launch()"
      ]
    },
    {
      "cell_type": "code",
      "source": [
        "examples = [[\"demos/effnetb2_Food101/examples/\" + example] for example in os.listdir(\"demos/effnetb2_Food101/examples\")]\n",
        "examples"
      ],
      "metadata": {
        "colab": {
          "base_uri": "https://localhost:8080/"
        },
        "id": "QiF1VbzSUjMI",
        "outputId": "83771808-def6-416c-f711-76c7232e2c10"
      },
      "execution_count": 131,
      "outputs": [
        {
          "output_type": "execute_result",
          "data": {
            "text/plain": [
              "[['demos/effnetb2_Food101/examples/IMG_2692.jpg'],\n",
              " ['demos/effnetb2_Food101/examples/IMG_1804.jpg'],\n",
              " ['demos/effnetb2_Food101/examples/IMG_1927.jpg']]"
            ]
          },
          "metadata": {},
          "execution_count": 131
        }
      ]
    },
    {
      "cell_type": "code",
      "source": [
        "!pip install gradio"
      ],
      "metadata": {
        "id": "QLnWVaajBcBi"
      },
      "execution_count": null,
      "outputs": []
    },
    {
      "cell_type": "code",
      "execution_count": 74,
      "metadata": {
        "id": "jLOFk1ITacHz",
        "colab": {
          "base_uri": "https://localhost:8080/"
        },
        "outputId": "93fc8302-cf2d-420d-e46e-76d25be29ccf"
      },
      "outputs": [
        {
          "output_type": "stream",
          "name": "stdout",
          "text": [
            "Overwriting demos/effnetb2_Food101/requirements.txt\n"
          ]
        }
      ],
      "source": [
        "## Requirement File\n",
        "%%writefile demos/effnetb2_Food101/requirements.txt\n",
        "torch==2.3.1\n",
        "torchvision==0.18.1\n",
        "gradio==4.38.0"
      ]
    },
    {
      "cell_type": "code",
      "source": [
        "## Dowloading the demo app files\n",
        "!cd demos/effnetb2_Food101 && zip -r ../effnetb2_Food101.zip * -x \"*.pyc\"\n",
        "\n",
        "try:\n",
        "  from google.colab import files\n",
        "  files.download(\"demos/effnetb2_Food101.zip\")\n",
        "except:\n",
        "  print(\"File not found\")"
      ],
      "metadata": {
        "colab": {
          "base_uri": "https://localhost:8080/",
          "height": 180
        },
        "id": "wYW0UD1YxKzP",
        "outputId": "3270fba6-c635-4e93-c235-0b6a4d49c0d3"
      },
      "execution_count": 53,
      "outputs": [
        {
          "output_type": "stream",
          "name": "stdout",
          "text": [
            "  adding: app.py (deflated 53%)\n",
            "  adding: class_names.txt (deflated 48%)\n",
            "  adding: effnetb2_model_Food101.pth (deflated 8%)\n",
            "  adding: examples/ (stored 0%)\n",
            "  adding: examples/IMG_2692.jpg (deflated 84%)\n",
            "  adding: examples/IMG_1804.jpg (deflated 81%)\n",
            "  adding: examples/IMG_1927.jpg (deflated 81%)\n",
            "  adding: model.py (deflated 43%)\n",
            "  adding: requirements.txt (deflated 4%)\n"
          ]
        },
        {
          "output_type": "display_data",
          "data": {
            "text/plain": [
              "<IPython.core.display.Javascript object>"
            ],
            "application/javascript": [
              "\n",
              "    async function download(id, filename, size) {\n",
              "      if (!google.colab.kernel.accessAllowed) {\n",
              "        return;\n",
              "      }\n",
              "      const div = document.createElement('div');\n",
              "      const label = document.createElement('label');\n",
              "      label.textContent = `Downloading \"${filename}\": `;\n",
              "      div.appendChild(label);\n",
              "      const progress = document.createElement('progress');\n",
              "      progress.max = size;\n",
              "      div.appendChild(progress);\n",
              "      document.body.appendChild(div);\n",
              "\n",
              "      const buffers = [];\n",
              "      let downloaded = 0;\n",
              "\n",
              "      const channel = await google.colab.kernel.comms.open(id);\n",
              "      // Send a message to notify the kernel that we're ready.\n",
              "      channel.send({})\n",
              "\n",
              "      for await (const message of channel.messages) {\n",
              "        // Send a message to notify the kernel that we're ready.\n",
              "        channel.send({})\n",
              "        if (message.buffers) {\n",
              "          for (const buffer of message.buffers) {\n",
              "            buffers.push(buffer);\n",
              "            downloaded += buffer.byteLength;\n",
              "            progress.value = downloaded;\n",
              "          }\n",
              "        }\n",
              "      }\n",
              "      const blob = new Blob(buffers, {type: 'application/binary'});\n",
              "      const a = document.createElement('a');\n",
              "      a.href = window.URL.createObjectURL(blob);\n",
              "      a.download = filename;\n",
              "      div.appendChild(a);\n",
              "      a.click();\n",
              "      div.remove();\n",
              "    }\n",
              "  "
            ]
          },
          "metadata": {}
        },
        {
          "output_type": "display_data",
          "data": {
            "text/plain": [
              "<IPython.core.display.Javascript object>"
            ],
            "application/javascript": [
              "download(\"download_721963a8-ef6f-43e1-ab95-930d8aafdd46\", \"effnetb2_Food101.zip\", 29451533)"
            ]
          },
          "metadata": {}
        }
      ]
    }
  ],
  "metadata": {
    "colab": {
      "provenance": [],
      "authorship_tag": "ABX9TyNvvr+kijfV4xtJU7i+0oUC",
      "include_colab_link": true
    },
    "kernelspec": {
      "display_name": "Python 3",
      "name": "python3"
    },
    "language_info": {
      "name": "python"
    },
    "widgets": {
      "application/vnd.jupyter.widget-state+json": {
        "09f70a10e2bf4b858e24559e001adadd": {
          "model_module": "@jupyter-widgets/controls",
          "model_module_version": "1.5.0",
          "model_name": "HTMLModel",
          "state": {
            "_dom_classes": [],
            "_model_module": "@jupyter-widgets/controls",
            "_model_module_version": "1.5.0",
            "_model_name": "HTMLModel",
            "_view_count": null,
            "_view_module": "@jupyter-widgets/controls",
            "_view_module_version": "1.5.0",
            "_view_name": "HTMLView",
            "description": "",
            "description_tooltip": null,
            "layout": "IPY_MODEL_1fe17523b0ce48fe805b926b39eaaebc",
            "placeholder": "​",
            "style": "IPY_MODEL_d3341e12ae7543d0bd2f839c8fb1cc3d",
            "value": " 5/5 [4:05:39&lt;00:00, 2919.27s/it]"
          }
        },
        "1fe17523b0ce48fe805b926b39eaaebc": {
          "model_module": "@jupyter-widgets/base",
          "model_module_version": "1.2.0",
          "model_name": "LayoutModel",
          "state": {
            "_model_module": "@jupyter-widgets/base",
            "_model_module_version": "1.2.0",
            "_model_name": "LayoutModel",
            "_view_count": null,
            "_view_module": "@jupyter-widgets/base",
            "_view_module_version": "1.2.0",
            "_view_name": "LayoutView",
            "align_content": null,
            "align_items": null,
            "align_self": null,
            "border": null,
            "bottom": null,
            "display": null,
            "flex": null,
            "flex_flow": null,
            "grid_area": null,
            "grid_auto_columns": null,
            "grid_auto_flow": null,
            "grid_auto_rows": null,
            "grid_column": null,
            "grid_gap": null,
            "grid_row": null,
            "grid_template_areas": null,
            "grid_template_columns": null,
            "grid_template_rows": null,
            "height": null,
            "justify_content": null,
            "justify_items": null,
            "left": null,
            "margin": null,
            "max_height": null,
            "max_width": null,
            "min_height": null,
            "min_width": null,
            "object_fit": null,
            "object_position": null,
            "order": null,
            "overflow": null,
            "overflow_x": null,
            "overflow_y": null,
            "padding": null,
            "right": null,
            "top": null,
            "visibility": null,
            "width": null
          }
        },
        "382a494d35a740e69807ff03eee98baa": {
          "model_module": "@jupyter-widgets/base",
          "model_module_version": "1.2.0",
          "model_name": "LayoutModel",
          "state": {
            "_model_module": "@jupyter-widgets/base",
            "_model_module_version": "1.2.0",
            "_model_name": "LayoutModel",
            "_view_count": null,
            "_view_module": "@jupyter-widgets/base",
            "_view_module_version": "1.2.0",
            "_view_name": "LayoutView",
            "align_content": null,
            "align_items": null,
            "align_self": null,
            "border": null,
            "bottom": null,
            "display": null,
            "flex": null,
            "flex_flow": null,
            "grid_area": null,
            "grid_auto_columns": null,
            "grid_auto_flow": null,
            "grid_auto_rows": null,
            "grid_column": null,
            "grid_gap": null,
            "grid_row": null,
            "grid_template_areas": null,
            "grid_template_columns": null,
            "grid_template_rows": null,
            "height": null,
            "justify_content": null,
            "justify_items": null,
            "left": null,
            "margin": null,
            "max_height": null,
            "max_width": null,
            "min_height": null,
            "min_width": null,
            "object_fit": null,
            "object_position": null,
            "order": null,
            "overflow": null,
            "overflow_x": null,
            "overflow_y": null,
            "padding": null,
            "right": null,
            "top": null,
            "visibility": null,
            "width": null
          }
        },
        "3ed9372efa044221a464bd0073fe37d8": {
          "model_module": "@jupyter-widgets/base",
          "model_module_version": "1.2.0",
          "model_name": "LayoutModel",
          "state": {
            "_model_module": "@jupyter-widgets/base",
            "_model_module_version": "1.2.0",
            "_model_name": "LayoutModel",
            "_view_count": null,
            "_view_module": "@jupyter-widgets/base",
            "_view_module_version": "1.2.0",
            "_view_name": "LayoutView",
            "align_content": null,
            "align_items": null,
            "align_self": null,
            "border": null,
            "bottom": null,
            "display": null,
            "flex": null,
            "flex_flow": null,
            "grid_area": null,
            "grid_auto_columns": null,
            "grid_auto_flow": null,
            "grid_auto_rows": null,
            "grid_column": null,
            "grid_gap": null,
            "grid_row": null,
            "grid_template_areas": null,
            "grid_template_columns": null,
            "grid_template_rows": null,
            "height": null,
            "justify_content": null,
            "justify_items": null,
            "left": null,
            "margin": null,
            "max_height": null,
            "max_width": null,
            "min_height": null,
            "min_width": null,
            "object_fit": null,
            "object_position": null,
            "order": null,
            "overflow": null,
            "overflow_x": null,
            "overflow_y": null,
            "padding": null,
            "right": null,
            "top": null,
            "visibility": null,
            "width": null
          }
        },
        "42f1cb141e4e46c880c15b14addc54c4": {
          "model_module": "@jupyter-widgets/controls",
          "model_module_version": "1.5.0",
          "model_name": "HTMLModel",
          "state": {
            "_dom_classes": [],
            "_model_module": "@jupyter-widgets/controls",
            "_model_module_version": "1.5.0",
            "_model_name": "HTMLModel",
            "_view_count": null,
            "_view_module": "@jupyter-widgets/controls",
            "_view_module_version": "1.5.0",
            "_view_name": "HTMLView",
            "description": "",
            "description_tooltip": null,
            "layout": "IPY_MODEL_3ed9372efa044221a464bd0073fe37d8",
            "placeholder": "​",
            "style": "IPY_MODEL_c4ea2ff6d93d48679151a922df0bb061",
            "value": "100%"
          }
        },
        "548c440399054de897dc65ac229edc85": {
          "model_module": "@jupyter-widgets/controls",
          "model_module_version": "1.5.0",
          "model_name": "FloatProgressModel",
          "state": {
            "_dom_classes": [],
            "_model_module": "@jupyter-widgets/controls",
            "_model_module_version": "1.5.0",
            "_model_name": "FloatProgressModel",
            "_view_count": null,
            "_view_module": "@jupyter-widgets/controls",
            "_view_module_version": "1.5.0",
            "_view_name": "ProgressView",
            "bar_style": "success",
            "description": "",
            "description_tooltip": null,
            "layout": "IPY_MODEL_382a494d35a740e69807ff03eee98baa",
            "max": 5,
            "min": 0,
            "orientation": "horizontal",
            "style": "IPY_MODEL_f8178e2adc174974aa04e0b58f0daa66",
            "value": 5
          }
        },
        "987ba87edc464e47a8edf2a82efd77b7": {
          "model_module": "@jupyter-widgets/controls",
          "model_module_version": "1.5.0",
          "model_name": "HBoxModel",
          "state": {
            "_dom_classes": [],
            "_model_module": "@jupyter-widgets/controls",
            "_model_module_version": "1.5.0",
            "_model_name": "HBoxModel",
            "_view_count": null,
            "_view_module": "@jupyter-widgets/controls",
            "_view_module_version": "1.5.0",
            "_view_name": "HBoxView",
            "box_style": "",
            "children": [
              "IPY_MODEL_42f1cb141e4e46c880c15b14addc54c4",
              "IPY_MODEL_548c440399054de897dc65ac229edc85",
              "IPY_MODEL_09f70a10e2bf4b858e24559e001adadd"
            ],
            "layout": "IPY_MODEL_e8c156e1d123481db1a37589194efe3c"
          }
        },
        "c4ea2ff6d93d48679151a922df0bb061": {
          "model_module": "@jupyter-widgets/controls",
          "model_module_version": "1.5.0",
          "model_name": "DescriptionStyleModel",
          "state": {
            "_model_module": "@jupyter-widgets/controls",
            "_model_module_version": "1.5.0",
            "_model_name": "DescriptionStyleModel",
            "_view_count": null,
            "_view_module": "@jupyter-widgets/base",
            "_view_module_version": "1.2.0",
            "_view_name": "StyleView",
            "description_width": ""
          }
        },
        "d3341e12ae7543d0bd2f839c8fb1cc3d": {
          "model_module": "@jupyter-widgets/controls",
          "model_module_version": "1.5.0",
          "model_name": "DescriptionStyleModel",
          "state": {
            "_model_module": "@jupyter-widgets/controls",
            "_model_module_version": "1.5.0",
            "_model_name": "DescriptionStyleModel",
            "_view_count": null,
            "_view_module": "@jupyter-widgets/base",
            "_view_module_version": "1.2.0",
            "_view_name": "StyleView",
            "description_width": ""
          }
        },
        "e8c156e1d123481db1a37589194efe3c": {
          "model_module": "@jupyter-widgets/base",
          "model_module_version": "1.2.0",
          "model_name": "LayoutModel",
          "state": {
            "_model_module": "@jupyter-widgets/base",
            "_model_module_version": "1.2.0",
            "_model_name": "LayoutModel",
            "_view_count": null,
            "_view_module": "@jupyter-widgets/base",
            "_view_module_version": "1.2.0",
            "_view_name": "LayoutView",
            "align_content": null,
            "align_items": null,
            "align_self": null,
            "border": null,
            "bottom": null,
            "display": null,
            "flex": null,
            "flex_flow": null,
            "grid_area": null,
            "grid_auto_columns": null,
            "grid_auto_flow": null,
            "grid_auto_rows": null,
            "grid_column": null,
            "grid_gap": null,
            "grid_row": null,
            "grid_template_areas": null,
            "grid_template_columns": null,
            "grid_template_rows": null,
            "height": null,
            "justify_content": null,
            "justify_items": null,
            "left": null,
            "margin": null,
            "max_height": null,
            "max_width": null,
            "min_height": null,
            "min_width": null,
            "object_fit": null,
            "object_position": null,
            "order": null,
            "overflow": null,
            "overflow_x": null,
            "overflow_y": null,
            "padding": null,
            "right": null,
            "top": null,
            "visibility": null,
            "width": null
          }
        },
        "f8178e2adc174974aa04e0b58f0daa66": {
          "model_module": "@jupyter-widgets/controls",
          "model_module_version": "1.5.0",
          "model_name": "ProgressStyleModel",
          "state": {
            "_model_module": "@jupyter-widgets/controls",
            "_model_module_version": "1.5.0",
            "_model_name": "ProgressStyleModel",
            "_view_count": null,
            "_view_module": "@jupyter-widgets/base",
            "_view_module_version": "1.2.0",
            "_view_name": "StyleView",
            "bar_color": null,
            "description_width": ""
          }
        }
      }
    }
  },
  "nbformat": 4,
  "nbformat_minor": 0
}